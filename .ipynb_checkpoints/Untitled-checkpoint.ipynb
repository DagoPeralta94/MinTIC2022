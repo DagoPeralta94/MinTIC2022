{
 "cells": [
  {
   "cell_type": "code",
   "execution_count": 12,
   "metadata": {},
   "outputs": [
    {
     "name": "stdout",
     "output_type": "stream",
     "text": [
      "Hola amigos\n",
      "Error\n"
     ]
    }
   ],
   "source": [
    "try:\n",
    "    print(\"Hola amigos\")\n",
    "    print(z)\n",
    "    print(\"Hey\")\n",
    "except:\n",
    "    print(\"Error\")"
   ]
  },
  {
   "cell_type": "code",
   "execution_count": 7,
   "metadata": {},
   "outputs": [
    {
     "name": "stdout",
     "output_type": "stream",
     "text": [
      "Valor entero: 1\n",
      "No pasa nada\n"
     ]
    }
   ],
   "source": [
    "\n",
    "try:\n",
    "    int(input(\"Valor entero: \"))\n",
    "except:\n",
    "    print(\"Error en los datos\")\n",
    "else:\n",
    "    print(\"No pasa nada\")"
   ]
  },
  {
   "cell_type": "code",
   "execution_count": 9,
   "metadata": {},
   "outputs": [
    {
     "name": "stdout",
     "output_type": "stream",
     "text": [
      "Valor entero: s\n",
      "Error en los datos\n",
      "No pasa nada\n"
     ]
    }
   ],
   "source": [
    "try:\n",
    "    int(input(\"Valor entero: \"))\n",
    "except:\n",
    "    print(\"Error en los datos\")\n",
    "finally:\n",
    "    print(\"No pasa nada\")"
   ]
  },
  {
   "cell_type": "code",
   "execution_count": 14,
   "metadata": {},
   "outputs": [
    {
     "name": "stdout",
     "output_type": "stream",
     "text": [
      "Otro error\n"
     ]
    }
   ],
   "source": [
    "try:\n",
    "    z = 3/0\n",
    "    print(z)\n",
    "except NameError:\n",
    "    print(\"Error en el nombre de la variable\")\n",
    "except:\n",
    "    print(\"Otro error\")"
   ]
  },
  {
   "cell_type": "code",
   "execution_count": null,
   "metadata": {},
   "outputs": [],
   "source": []
  }
 ],
 "metadata": {
  "kernelspec": {
   "display_name": "Python 3",
   "language": "python",
   "name": "python3"
  },
  "language_info": {
   "codemirror_mode": {
    "name": "ipython",
    "version": 3
   },
   "file_extension": ".py",
   "mimetype": "text/x-python",
   "name": "python",
   "nbconvert_exporter": "python",
   "pygments_lexer": "ipython3",
   "version": "3.8.3"
  }
 },
 "nbformat": 4,
 "nbformat_minor": 4
}
