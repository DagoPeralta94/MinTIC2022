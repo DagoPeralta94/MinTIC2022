{
 "cells": [
  {
   "cell_type": "markdown",
   "metadata": {
    "id": "90Y7EDFq-rwh"
   },
   "source": [
    "## Retos del día\n",
    "\n",
    "***OJO*** \n",
    "1. Recuerda que es tu responsabilidad definir la función indicada y retornar el valor solicitado. <br/>\n",
    "    def reto1():<br/>\n",
    "        print(resultado) o return resultado\n",
    "2. Las funciones podrán recibir parámetros o solicitar los datos al usuario usando la función input() de Python. Revisa el enunciado del reto para determinar como se deben recibir los valores y recuerda que para input() los valores serán entregados en el orden que sea indicado en el enunciado.\n",
    "3. Hemos ampliado el plazo para enviar el reto hasta las 7:00 am del día siguiente, así que toma el tiempo necesario para analizar y desarrollar tu solución. Recuerda que lo más importante antes de empezar a programar es pensar en el algoritmo que vas a utilizar. Cuales son los pasos para solucionar el problema? La implementación y las funciones a usar se pueden encontrar una vez esto este claro.\n",
    "\n",
    "\n",
    "<b>INFORMACIÓN IMPORTANTE:</b> Recuerda que los retos del día son una oportunidad de reforzar los conocimientos adquiridos en esta sesión teórica y adicionalmente sirven para modificar, practicar y aprender a considerar soluciones alternas. Por este motivo, es importante no sólo usar el contenido de la sesión síncrona y preguntar a los monitores, sino también buscar en Internet soluciones viables a los problemas planteados. \n",
    "\n",
    "### Reto #1\n",
    "Crea una funcion reto1(x, y) que reciba dos listas de igual tamaño N, y retorne una tercera lista (z) que tenga el menor (o el mismo) de los números en cada una de las posiciones de ambas listas. Si no son del mismo tamaño debe retornar \"Error en los datos\"\n",
    "\n",
    "*A continuacion encontraras las funciones que debe contener tu algoritmo, y datos de ejemplo para que realices tus pruebas:*\n",
    "\n",
    "<table>\n",
    "<thead><tr>\n",
    "<th>Funcion</th>\n",
    "<th>Parametros de entrada<br> (argumentos)</th>\n",
    "<th>Valores entrados por el<br> usuario dentro de la función</th>\n",
    "<th>Valores a imprimir</th>\n",
    "<th>Valores a retornar <br>por la función</th>\n",
    "</tr>\n",
    "</thead>\n",
    "<tbody>\n",
    "<tr>\n",
    "<td><code> reto1(x,y)</code></td>\n",
    "<td>x, y        #Listas</td>\n",
    "<td></td>\n",
    "<td> z                     #Lista<br/>\n",
    "    \"Error en los datos\"  #Si x y y no tienen el mismo número de elementos</td>\n",
    "    <td></td>\n",
    "</tr>\n",
    "<tr>\n",
    "<td><code> reto1([1, 4, 6], [3, 8, 2])</code></td>\n",
    "<td>[1, 4, 6], [3, 8, 2]</td>\n",
    "<td></td>\n",
    "<td>[1, 4, 2]             <br/></td>\n",
    "    <td></td>\n",
    "</tr>\n",
    "<tr>\n",
    "<td><code> reto1([1, 4, 2], [1, 4, 5])</code></td>\n",
    "<td>[1, 4, 2], [1, 4, 5]</td>\n",
    "<td></td>\n",
    "<td>[1, 4, 2] <br/></td>\n",
    "    <td></td>\n",
    "</tr>\n",
    "<tr>\n",
    "<td><code> reto1([1, 4, 2], [1, 4])</code></td>\n",
    "<td>[1, 4, 2], [1, 4]</td>\n",
    "<td></td>\n",
    "<td>\"Error en los datos\"           <br/></td>\n",
    "    <td></td>\n",
    "</tr>\n",
    "</tbody></table>"
   ]
  },
  {
   "cell_type": "code",
   "execution_count": 19,
   "metadata": {
    "id": "NxvROcrt-rwi"
   },
   "outputs": [
    {
     "name": "stdout",
     "output_type": "stream",
     "text": [
      "[1, 4, 2]\n"
     ]
    }
   ],
   "source": [
    "#Aqui va tu algoritmo\n",
    "def reto1(x,y):\n",
    "    lista=[]\n",
    "    if len(x) != len(y):\n",
    "        respuesta = \"Error en los datos\"\n",
    "    else:\n",
    "        for i in range(len(x)):\n",
    "            mi_lista = []\n",
    "            if x[i]<y[i]:\n",
    "                lista.append(x[i])\n",
    "            else:\n",
    "                lista.append(y[i])\n",
    "            mi_lista.append(lista)\n",
    "        respuesta = lista \n",
    "    return print(respuesta)\n",
    "#No modifiques esta parte! \n",
    "if __name__ == \"__main__\":\n",
    "    reto1([1, 4, 6], [3, 8, 2])"
   ]
  },
  {
   "cell_type": "markdown",
   "metadata": {
    "id": "x4msTFX9-rwm"
   },
   "source": [
    "### Reto #2\n",
    "\n",
    "Proponga una función reto2(x, y) que tome como entrada dos vectores x y y. Calcule la diferencia simétrica entre ellos, es decir los elementos de A que no se encuentran en B y los elementos de B que no se encuentran en A y retorne la lista final.\n",
    "\n",
    "*A continuacion encontraras las funciones que debe contener tu algoritmo, y datos de ejemplo para que realices tus pruebas:*\n",
    "\n",
    "<table>\n",
    "<thead><tr>\n",
    "<th>Funcion</th>\n",
    "<th>Parametros de entrada<br> (argumentos)</th>\n",
    "<th>Valores entrados por el<br> usuario dentro de la función</th>\n",
    "<th>Valores a imprimir</th>\n",
    "<th>Valores a retornar <br>por la función</th>\n",
    "</tr>\n",
    "</thead>\n",
    "<tbody>\n",
    "<tr>\n",
    "<td><code> reto2(x,y)</code></td>\n",
    "<td>x, y        #Listas</td>\n",
    "<td></td>\n",
    "<td> </td>\n",
    "    <td>z                     #Lista</td>\n",
    "</tr>\n",
    "<tr>\n",
    "<td><code> reto2([1,2,3],[3,4,5])</code></td>\n",
    "<td>[1,2,3],[3,4,5]</td>\n",
    "<td></td>\n",
    "<td></td>\n",
    "    <td>[1,2,4,5]</td>\n",
    "</tr>\n",
    "<tr>\n",
    "<td><code> reto2([1],[2,3,4,5,6,7])</code></td>\n",
    "<td>[1],[2,3,4,5,6,7]</td>\n",
    "<td></td>\n",
    "<td></td>\n",
    "    <td>[1,2,3,4,5,6,7]</td>\n",
    "</tr>\n",
    "<tr>\n",
    "<td><code> reto2([1, 4, 2], [1, 4, 2])</code></td>\n",
    "<td>[1, 4, 2], [1, 4, 2]</td>\n",
    "<td></td>\n",
    "<td></td>\n",
    "    <td>[]</td>\n",
    "</tr>\n",
    "</tbody></table>\n"
   ]
  },
  {
   "cell_type": "code",
   "execution_count": 2,
   "metadata": {
    "id": "-y4_6eH--rwn"
   },
   "outputs": [
    {
     "name": "stdout",
     "output_type": "stream",
     "text": [
      "[]\n"
     ]
    }
   ],
   "source": [
    "#Aqui va tu algoritmo\n",
    "def reto2(x,y):\n",
    "    x1 = list(x)\n",
    "    y1 = list(y)\n",
    "    lista = []\n",
    "    for i in range(len(y)):\n",
    "        if y[i] in x:\n",
    "            x1.remove(y[i])\n",
    "            y1.remove(y[i])\n",
    "        else:\n",
    "            lista = x1 + y1\n",
    "        lista = x1 + y1\n",
    "    return print(lista)\n",
    "\n",
    "#No modifiques esta parte! \n",
    "if __name__ == \"__main__\":\n",
    "    reto2([1, 4, 2], [1, 4, 2])\n"
   ]
  },
  {
   "cell_type": "code",
   "execution_count": null,
   "metadata": {},
   "outputs": [],
   "source": []
  }
 ],
 "metadata": {
  "colab": {
   "name": "Sesion-16-retos.ipynb",
   "provenance": []
  },
  "kernelspec": {
   "display_name": "Python 3",
   "language": "python",
   "name": "python3"
  },
  "language_info": {
   "codemirror_mode": {
    "name": "ipython",
    "version": 3
   },
   "file_extension": ".py",
   "mimetype": "text/x-python",
   "name": "python",
   "nbconvert_exporter": "python",
   "pygments_lexer": "ipython3",
   "version": "3.8.3"
  }
 },
 "nbformat": 4,
 "nbformat_minor": 1
}
