{
 "cells": [
  {
   "cell_type": "markdown",
   "metadata": {},
   "source": [
    "## Retos del día\n",
    "\n",
    "Los retos del día están diseñados para permitirte practicar los conceptos aprendidos y empezar a explorar el lenguaje de programación. \n",
    "\n",
    "Recuerda tomar el tiempo en analizar y planear la solución antes de empezar a programar!\n",
    "\n",
    "### Reto del día 1\n",
    "\n",
    "El sistema de calificación de notas, entrega una nota alfanumérica por cada nota numérica entregada (entre 1 y 100). Realiza un condicional que retorne la nota alfanumérica. \n",
    "\n",
    "<table>\n",
    "<thead><tr>\n",
    "<th>Nota</th>\n",
    "<th>Nota Alfanumérica</th>\n",
    "</tr>\n",
    "</thead>\n",
    "<tbody>\n",
    "<tr>\n",
    "<td><code> 0 - 59</code></td>\n",
    "<td>F</td>\n",
    "</tr>\n",
    "<tr>\n",
    "<td><code>Entre 60 y 69</code></td>\n",
    "<td>D</td>\n",
    "</tr>\n",
    "<tr>\n",
    "<td><code>70 - 79</code></td>\n",
    "<td>C</td>\n",
    "</tr>\n",
    "<tr>\n",
    "<td><code>80 - 89</code></td>\n",
    "<td>B</td>\n",
    "</tr>\n",
    "<tr>\n",
    "<td><code>90 - 100</code></td>\n",
    "<td>A</td>\n",
    "</tr>\n",
    "</tbody></table>"
   ]
  },
  {
   "cell_type": "code",
   "execution_count": 11,
   "metadata": {},
   "outputs": [
    {
     "data": {
      "text/plain": [
       "'D'"
      ]
     },
     "execution_count": 11,
     "metadata": {},
     "output_type": "execute_result"
    }
   ],
   "source": [
    "def reto1(nota):\n",
    "    if (nota >= 0 and nota <=59): \n",
    "        nota_alfa = \"F\"\n",
    "    elif (nota >= 60 and nota <=69):\n",
    "        nota_alfa = \"D\"\n",
    "    elif (nota >= 70 and nota <=79):\n",
    "        nota_alfa = \"C\"\n",
    "    elif (nota >= 80 and nota <=89):\n",
    "        nota_alfa = \"B\"\n",
    "    elif (nota >= 90 and nota <=100):\n",
    "        nota_alfa = \"A\"\n",
    "    else:\n",
    "        print(\"Nota no válida\")\n",
    "    \n",
    "    return nota_alfa # Reemplaza 0 por la variable que tiene el resultado\n",
    "\n",
    "reto1(64)"
   ]
  },
  {
   "cell_type": "markdown",
   "metadata": {},
   "source": [
    "### Reto del día 2\n",
    "\n",
    "La contaminación en las principales ciudades del país es algo que preocupa a los gobernantes.\n",
    "\n",
    "Las concentraciones de contaminantes se miden con un valor llamado el Índice de Calidad del Aire (ICA).\n",
    "                     <img src=\"https://openedx.edunext.co/asset-v1:MT-Uninorte+P1+2020+type@asset+block@ICA.PNG\" alt=\"ICA\"> \n",
    "                    \n",
    "Escribe un programa que capture el ICA y muestre el la clasificación según el valor ingresado"
   ]
  },
  {
   "cell_type": "code",
   "execution_count": 12,
   "metadata": {},
   "outputs": [
    {
     "data": {
      "text/plain": [
       "'Mala'"
      ]
     },
     "execution_count": 12,
     "metadata": {},
     "output_type": "execute_result"
    }
   ],
   "source": [
    "def reto2(indice):\n",
    "    if (indice >= 0 and indice <=50): \n",
    "        calidad_aire = \"Buena\"\n",
    "    elif (indice >= 51 and indice <=100):\n",
    "        calidad_aire = \"Regular\"\n",
    "    elif (indice >= 101 and indice <=150):\n",
    "        calidad_aire = \"Mala\"\n",
    "    elif (indice >= 151 and indice <=200):\n",
    "        calidad_aire = \"Muy mala\"\n",
    "    elif (indice >= 200):\n",
    "        calidad_aire = \"Extremadamente mala\"\n",
    "    else:\n",
    "        print(\"ICA no válido\")\n",
    "    \n",
    "    return calidad_aire # Reemplaza 0 por la variable que tiene el resultado\n",
    "\n",
    "reto2(150) "
   ]
  },
  {
   "cell_type": "markdown",
   "metadata": {},
   "source": [
    "### Reto del día 3 \n",
    "\n",
    "Crea un programa que le solicite dos nombres al usuario e imprima solo el primero en orden alfabetico."
   ]
  },
  {
   "cell_type": "code",
   "execution_count": 10,
   "metadata": {},
   "outputs": [
    {
     "name": "stdout",
     "output_type": "stream",
     "text": [
      "Andrea\n"
     ]
    }
   ],
   "source": [
    "def reto3(nombre1, nombre2):\n",
    "  \n",
    "    if nombre1 < nombre2:\n",
    "      print(nombre1)\n",
    "    else:\n",
    "      print(nombre2)\n",
    "    \n",
    "reto3(\"Andrea\", \"Andres\")"
   ]
  }
 ],
 "metadata": {
  "kernelspec": {
   "display_name": "Python 3",
   "language": "python",
   "name": "python3"
  },
  "language_info": {
   "codemirror_mode": {
    "name": "ipython",
    "version": 3
   },
   "file_extension": ".py",
   "mimetype": "text/x-python",
   "name": "python",
   "nbconvert_exporter": "python",
   "pygments_lexer": "ipython3",
   "version": "3.8.3"
  }
 },
 "nbformat": 4,
 "nbformat_minor": 4
}
