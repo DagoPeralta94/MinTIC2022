{
 "cells": [
  {
   "cell_type": "markdown",
   "metadata": {
    "id": "MLGM740a0FzY"
   },
   "source": [
    "## Retos del día\n",
    "\n",
    "<b>INFORMACIÓN IMPORTANTE:</b> Recuerda que los retos del día son una oportunidad de reforzar los conocimientos adquiridos en esta sesión teórica y adicionalmente sirven para modificar, practicar y aprender a considerar soluciones alternas. Por este motivo, es importante no sólo usar el contenido de la sesión síncrona y preguntar a los monitores, sino también buscar en Internet soluciones viables a los problemas planteados. \n",
    "\n",
    "Recuerda que tienes hasta la media noche para enviar el reto, así que toma el tiempo necesario para analizar y desarrollar tu solución. Lo más importante antes de empezar a programar es pensar en el algoritmo que vas a utilizar. Cuales son los pasos para solucionar el problema? La implementación y las funciones a usar se pueden encontrar una vez esto este claro.\n",
    "\n",
    "\n",
    "### Reto del día 1\n",
    "Un palíndromo también llamado palíndroma, es una palabra o frase que se lee igual en un sentido y en el otro. Escribe un programa que a través del manejo de ciclos, reciba una palabra y determine si es palindroma (True) o si no (False).\n",
    "\n",
    "Ejemplo: \n",
    "La palabra \"ala\" debería retornar True\n",
    "Pero la palabra \"carro\" False"
   ]
  },
  {
   "cell_type": "code",
   "execution_count": 83,
   "metadata": {
    "id": "98LHNGOC0FzZ",
    "outputId": "1712073d-c13f-48dd-894f-e2f589122c5a"
   },
   "outputs": [
    {
     "data": {
      "text/plain": [
       "True"
      ]
     },
     "execution_count": 83,
     "metadata": {},
     "output_type": "execute_result"
    }
   ],
   "source": [
    "def reto1(palabra):\n",
    "    palabra_reves = palabra[::-1]\n",
    "    if palabra == palabra_reves:\n",
    "        resultado1 = True\n",
    "    else:\n",
    "        resultado1 = False        \n",
    "\n",
    "    return resultado1\n",
    "reto1(\"ala\")    "
   ]
  },
  {
   "cell_type": "markdown",
   "metadata": {
    "id": "ieD-hvl_0Fze"
   },
   "source": [
    "### Reto del día 2\n",
    "\n",
    "Dado un número natural N, se calcula la raíz digital de N sumando los dígitos que lo componen. El proceso se repite sobre el nuevo número hasta que el resultado obtenido tiene un sólo dígito. Este último número es la raíz digital del número N.\n",
    "\n",
    "Ejemplo: Raíz digital (347) = 5.\n",
    "\n",
    "347\n",
    "3 + 4 + 7 = 14\n",
    "1 + 4 = 5"
   ]
  },
  {
   "cell_type": "code",
   "execution_count": 3,
   "metadata": {
    "id": "jNJttgG-0Fze"
   },
   "outputs": [
    {
     "data": {
      "text/plain": [
       "9"
      ]
     },
     "execution_count": 3,
     "metadata": {},
     "output_type": "execute_result"
    }
   ],
   "source": [
    "def reto2(numero):\n",
    "    suma = sum(int(digito) for digito in str(numero))\n",
    "    if suma < 10:\n",
    "        solucion = suma\n",
    "    else:\n",
    "        return reto2(suma)\n",
    "    return solucion\n",
    "reto2(99) # Resultado: 6\n"
   ]
  },
  {
   "cell_type": "markdown",
   "metadata": {
    "id": "cbtUKgPL0Fzi"
   },
   "source": [
    "## Reto del día 3\n",
    "\n",
    "Un número primo es un número natural mayor que 1 que tiene únicamente dos divisores positivos distintos: él mismo y el 1. Con base a esto, escriba el código que reciba un número entero e imprima True si el número es primo, de lo contrario imprima False. \n",
    "\n",
    "Tenga en cuenta que si el número es menor o igual a 1, se retorna como resultado \"Error en el Número\".\n",
    "\n",
    "Ejemplo:\n",
    "11 retorna True\n",
    "9 retorna False"
   ]
  },
  {
   "cell_type": "code",
   "execution_count": 1,
   "metadata": {
    "id": "o__rRlBc0Fzj"
   },
   "outputs": [
    {
     "data": {
      "text/plain": [
       "False"
      ]
     },
     "execution_count": 1,
     "metadata": {},
     "output_type": "execute_result"
    }
   ],
   "source": [
    "def reto3(numero):\n",
    "    \n",
    "    if numero <= 1:\n",
    "        resultado = \"Error en el Número\"\n",
    "    else:\n",
    "        i = 1\n",
    "        cont1 = 0\n",
    "        while i < numero:\n",
    "            contador = numero%(i)\n",
    "            if contador == 0:\n",
    "                cont1 = cont1 + 1\n",
    "            else:\n",
    "                cont1 = cont1\n",
    "            i += 1\n",
    "        if cont1 > 1:\n",
    "            resultado = False\n",
    "        else:\n",
    "            resultado = True\n",
    "   \n",
    "    return resultado # Modifica el codigo para imprimir cada valor\n",
    "\n",
    "reto3(55)  "
   ]
  },
  {
   "cell_type": "code",
   "execution_count": 4,
   "metadata": {},
   "outputs": [
    {
     "data": {
      "text/plain": [
       "8"
      ]
     },
     "execution_count": 4,
     "metadata": {},
     "output_type": "execute_result"
    }
   ],
   "source": [
    "def reto2(numero):\n",
    "    while numero > 9:\n",
    "        numero = numero // 10 + numero % 10\n",
    "    return numero \n",
    "reto2(44)"
   ]
  },
  {
   "cell_type": "code",
   "execution_count": null,
   "metadata": {},
   "outputs": [],
   "source": []
  }
 ],
 "metadata": {
  "colab": {
   "name": "Sesion-8-retos.ipynb",
   "provenance": []
  },
  "kernelspec": {
   "display_name": "Python 3",
   "language": "python",
   "name": "python3"
  },
  "language_info": {
   "codemirror_mode": {
    "name": "ipython",
    "version": 3
   },
   "file_extension": ".py",
   "mimetype": "text/x-python",
   "name": "python",
   "nbconvert_exporter": "python",
   "pygments_lexer": "ipython3",
   "version": "3.8.3"
  }
 },
 "nbformat": 4,
 "nbformat_minor": 1
}
