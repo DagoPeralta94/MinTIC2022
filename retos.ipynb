{
 "cells": [
  {
   "cell_type": "markdown",
   "metadata": {},
   "source": [
    "## Retos del día\n",
    "\n",
    "Los retos del día están diseñados para permitirte practicar los conceptos aprendidos y empezar a explorar el lenguaje de programación. \n",
    "\n",
    "Recuerda tomar el tiempo en analizar y planear la solución antes de empezar a programar!\n",
    "\n",
    "### Reto del día 1\n",
    "\n",
    "Escribe el código que lea las cuatro notas de un estudiante (Cada nota en la escala entre 1 y 5) e imprima el promedio de las mismas."
   ]
  },
  {
   "cell_type": "code",
   "execution_count": 1,
   "metadata": {},
   "outputs": [
    {
     "name": "stdout",
     "output_type": "stream",
     "text": [
      "Éste es un algoritmo que te permite sacar el promedio de 4 notas de un estudiante, siempre y cuando las notas varien de 1 a 5\n",
      "Ingrese primera nota: 5\n",
      "Ingrese segunda nota: 5\n",
      "Ingrese tercera nota: 5\n",
      "Ingrese cuarta nota: 5\n",
      "El valor promedio de las notas es:  5.0\n"
     ]
    },
    {
     "data": {
      "text/plain": [
       "5.0"
      ]
     },
     "execution_count": 1,
     "metadata": {},
     "output_type": "execute_result"
    }
   ],
   "source": [
    "def reto1(x,y,z,w):\n",
    "    promedio = (x+y+z+w)/4\n",
    "    if (promedio < 1 or promedio > 5):\n",
    "        promedio = 'Elegiste un valor de nota incorrecta, vuelve a ingresar las notas'\n",
    "    else:\n",
    "        print('El valor promedio de las notas es: ', promedio)\n",
    "    return promedio\n",
    "\n",
    "print('Éste es un algoritmo que te permite sacar el promedio de 4 notas de un estudiante, siempre y cuando las notas varien de 1 a 5')\n",
    "x = float(input('Ingrese primera nota: '))\n",
    "if (x > 5 or x < 1):\n",
    "    x = float(input('Número no valido, vuelve a ingresar la primera nota: '))\n",
    "y = float(input('Ingrese segunda nota: '))\n",
    "if (y > 5 or y < 1):\n",
    "    y = float(input('Número no valido, vuelve a ingresar la segunda nota: '))\n",
    "z = float(input('Ingrese tercera nota: '))\n",
    "if (z > 5 or z < 1):\n",
    "    z = float(input('Número no valido, vuelve a ingresar la tercera nota'))\n",
    "w = float(input('Ingrese cuarta nota: '))\n",
    "if (w > 5 or w < 1):\n",
    "    w = float(input('Número no valido, vuelve a ingresar la cuarta nota'))\n",
    "\n",
    "reto1(x,y,z,w)"
   ]
  },
  {
   "cell_type": "markdown",
   "metadata": {},
   "source": [
    "### Reto del día 2\n",
    "\n",
    "Escribe el código para leer un número entero x e imprime el número de dígitos de x. Por ejemplo, 345 tiene 3 dígitos y 4000 tiene 4 dígitos."
   ]
  },
  {
   "cell_type": "code",
   "execution_count": 2,
   "metadata": {},
   "outputs": [
    {
     "name": "stdout",
     "output_type": "stream",
     "text": [
      "Ingrese un número: 435\n",
      "435  Tiene  3  digitos\n"
     ]
    }
   ],
   "source": [
    "def reto2(x):\n",
    "    x = str(x)\n",
    "    longitud = len(x)\n",
    "    respuesta = print(x, ' Tiene ', longitud, ' digitos')\n",
    "    return respuesta \n",
    "\n",
    "x = int(input('Ingrese un número: '))\n",
    "\n",
    "reto2(x)"
   ]
  },
  {
   "cell_type": "markdown",
   "metadata": {},
   "source": [
    "### Reto del día 3\n",
    "\n",
    "Escribe el código para leer un número entero e imprime el último dígito."
   ]
  },
  {
   "cell_type": "code",
   "execution_count": 3,
   "metadata": {},
   "outputs": [
    {
     "name": "stdout",
     "output_type": "stream",
     "text": [
      "Ingrese un número: 45\n",
      "El último dígito de  45  es  5\n"
     ]
    }
   ],
   "source": [
    "def reto3(x):\n",
    "    x = str(x)\n",
    "    longitud = len(x)\n",
    "    ult_digit = x[longitud-1]\n",
    "    respuesta = print('El último dígito de ', x, ' es ', ult_digit)\n",
    "    return respuesta   \n",
    "\n",
    "x = int(input('Ingrese un número: '))\n",
    "\n",
    "reto3(x)"
   ]
  },
  {
   "cell_type": "markdown",
   "metadata": {},
   "source": [
    "### Reto del día 4\n",
    "\n",
    "Escribe el código para leer dos números enteros(x, y) de dos dígitos y determina a cuánto es igual la suma de todos los dígitos. Imprime el resultado.\n"
   ]
  },
  {
   "cell_type": "code",
   "execution_count": 4,
   "metadata": {},
   "outputs": [
    {
     "name": "stdout",
     "output_type": "stream",
     "text": [
      "Ingrese un primer número entero inferior a 100: 78\n",
      "Ingrese un segundo número entero inferior a 100: 87\n",
      "La sumatoria de los digitos es:  30\n"
     ]
    },
    {
     "data": {
      "text/plain": [
       "30"
      ]
     },
     "execution_count": 4,
     "metadata": {},
     "output_type": "execute_result"
    }
   ],
   "source": [
    "def reto4(x,y): \n",
    "    if (x or y) >= 100:\n",
    "        sumatoria = print('Elegiste números invalidos, vuelve a intentar')\n",
    "    else:\n",
    "        x = str(x)\n",
    "        y = str(y)\n",
    "        long_x = len(x)\n",
    "        long_y = len(y)\n",
    "        if (long_x == 2 and long_y == 2):\n",
    "            x1 = int(x[0])\n",
    "            x2 = int(x[1])\n",
    "            y1 = int(y[0])\n",
    "            y2 = int(y[1])\n",
    "            sumatoria = x1 + x2 + y1 + y2\n",
    "            print('La sumatoria de los digitos es: ', sumatoria)\n",
    "        elif (long_x == 1 and long_y == 2):\n",
    "            x1 = int(x[0])\n",
    "            y1 = int(y[0])\n",
    "            y2 = int(y[1])\n",
    "            sumatoria = x1 + y1 + y2\n",
    "        elif (long_x == 2 and long_y == 1):\n",
    "            x1 = int(x[0])\n",
    "            x2 = int(x[1])\n",
    "            y1 = int(y[0])\n",
    "            sumatoria = x1 + x2 + y1\n",
    "        else:\n",
    "            x1 = int(x[0])\n",
    "            y1 = int(y[0])\n",
    "            sumatoria = x1 + y1\n",
    "    return sumatoria\n",
    "\n",
    "x = int(input('Ingrese un primer número entero inferior a 100: '))\n",
    "y = int(input('Ingrese un segundo número entero inferior a 100: '))\n",
    "\n",
    "reto4(x,y)"
   ]
  },
  {
   "cell_type": "code",
   "execution_count": null,
   "metadata": {},
   "outputs": [],
   "source": []
  }
 ],
 "metadata": {
  "kernelspec": {
   "display_name": "Python 3",
   "language": "python",
   "name": "python3"
  },
  "language_info": {
   "codemirror_mode": {
    "name": "ipython",
    "version": 3
   },
   "file_extension": ".py",
   "mimetype": "text/x-python",
   "name": "python",
   "nbconvert_exporter": "python",
   "pygments_lexer": "ipython3",
   "version": "3.8.3"
  }
 },
 "nbformat": 4,
 "nbformat_minor": 4
}
