{
 "cells": [
  {
   "cell_type": "markdown",
   "metadata": {},
   "source": [
    "## Retos del día\n",
    "\n",
    "Los retos del día están diseñados para permitirte practicar los conceptos aprendidos y empezar a explorar el lenguaje de programación. \n",
    "\n",
    "Recuerda tomar el tiempo en analizar y planear la solución antes de empezar a programar!\n",
    "\n",
    "### Reto del día 1\n",
    "\n",
    "Pedro y Jesús son dos hermanos, hijos únicos de Simón, y quienes tienen acceso a una bóveda en un exclusivo banco. El dueño original de esta bóveda es su padre, y en su testamento ha especificado las siguientes condiciones para que el banco le permita acceder a sus hijos al contenido de dicha bóveda. Las condiciones son las siguientes:\n",
    "\n",
    "    a. Juan debe ser mayor de 35 años, o Pedro debe ser menor de 50 años.\n",
    "    b. La suma de sus edades debe ser un número par.\n",
    "    c. Simón debe tener mínimo 1 nieto.\n",
    "\n",
    "Construye un algoritmo que lea la edad de Juan, la edad de Pedro y el número de nietos y calcule, usando condicionales, si tienen acceso (SI) o no (NO) a la bóveda."
   ]
  },
  {
   "cell_type": "code",
   "execution_count": 15,
   "metadata": {},
   "outputs": [
    {
     "name": "stdout",
     "output_type": "stream",
     "text": [
      "NO\n"
     ]
    }
   ],
   "source": [
    "def reto1(edadJuan, edadPedro,nietos):\n",
    "   # Escribe tu código aquí. Manten la indentación!!\n",
    "    suma_edades = edadJuan + edadPedro\n",
    "    pares = suma_edades%2\n",
    "    if edadJuan > 35 or edadPedro < 50:\n",
    "        if nietos > 0:\n",
    "            if pares == 0:\n",
    "                ingreso = print('SI')\n",
    "            else:\n",
    "                ingreso = print('NO')\n",
    "        else:\n",
    "            ingreso = print('NO')\n",
    "    else:\n",
    "        ingreso = print('NO')\n",
    "    return ingreso # Reemplaza 0 por la variable que tiene el resultado\n",
    "\n",
    "reto1(36, 45, 2)"
   ]
  },
  {
   "cell_type": "markdown",
   "metadata": {},
   "source": [
    "### Reto del día 2\n",
    "\n",
    "El incremento salarial de la compañía Y se determina de acuerdo al desempeño de cada empleado. \n",
    "\n",
    "Cada jefe de área le asigna una calificación entre 1 y 25 a cada empleado por dos factor: culminación de proyectos y trabajo en equipo. El desempeño es calculado sumando el resultado de ambos factores y determinando el porcentaje total.\n",
    "\n",
    "Los empleados que obtengan más del 60% de desempeño y al menos 12 puntos en cada factor obtendrán un incremento de 5%. El resto de empleados obtendran 2.5%.\n",
    "\n",
    "Escribe el código que permita, a partir del valor de los factores ingresados por el gerente e imprima el porcentaje a incrementar (0.025 = 2.5% y 0.05 = 5%)."
   ]
  },
  {
   "cell_type": "code",
   "execution_count": 20,
   "metadata": {},
   "outputs": [
    {
     "data": {
      "text/plain": [
       "0.025"
      ]
     },
     "execution_count": 20,
     "metadata": {},
     "output_type": "execute_result"
    }
   ],
   "source": [
    "def reto2(factorProyecto, factorEquipo):\n",
    "    # Escribe tu código aquí. Manten la indentación!!\n",
    "    # 50 equivale al 100% es decir que necesita al menos el 60% y 12 puntos en cada factor para obtener ingreso del 5% sino será\n",
    "    # un incremento del 2.5%\n",
    "    porcentaje_desempeno = ((factorProyecto + factorEquipo)/50)*100\n",
    "    if porcentaje_desempeno > 60 and factorProyecto > 11 and factorProyecto > 11:\n",
    "        incremento = 0.05\n",
    "    else:\n",
    "        incremento = 0.025\n",
    "    \n",
    "    return incremento # Reemplaza 0 por la variable que tiene el resultado\n",
    "\n",
    "reto2(14,14) "
   ]
  },
  {
   "cell_type": "markdown",
   "metadata": {},
   "source": [
    "### Reto del día 3 \n",
    "\n",
    "Escribe un algoritmo que dado un número del 1 al 10 determine si es par o impar."
   ]
  },
  {
   "cell_type": "code",
   "execution_count": 30,
   "metadata": {},
   "outputs": [
    {
     "data": {
      "text/plain": [
       "'Impar'"
      ]
     },
     "execution_count": 30,
     "metadata": {},
     "output_type": "execute_result"
    }
   ],
   "source": [
    "def reto3(x):\n",
    "    es_par = x%2\n",
    "    if es_par == 0:\n",
    "        resultado = 'Par'\n",
    "    else:\n",
    "        resultado = 'Impar'\n",
    "    \n",
    "    return resultado # Reemplaza 0 por la variable que tiene el resultado\n",
    "reto3(5) "
   ]
  }
 ],
 "metadata": {
  "kernelspec": {
   "display_name": "Python 3",
   "language": "python",
   "name": "python3"
  },
  "language_info": {
   "codemirror_mode": {
    "name": "ipython",
    "version": 3
   },
   "file_extension": ".py",
   "mimetype": "text/x-python",
   "name": "python",
   "nbconvert_exporter": "python",
   "pygments_lexer": "ipython3",
   "version": "3.8.3"
  }
 },
 "nbformat": 4,
 "nbformat_minor": 4
}
