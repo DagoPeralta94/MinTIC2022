{
 "cells": [
  {
   "cell_type": "markdown",
   "metadata": {
    "id": "1noStfsMCV8O"
   },
   "source": [
    "## Retos del día\n",
    "\n",
    "***OJO*** \n",
    "1. Recuerda que es tu responsabilidad definir la función indicada y retornar el valor solicitado. <br/>\n",
    "    def reto1():<br/>\n",
    "        print(resultado) o return resultado\n",
    "2. Las funciones podrán recibir parámetros o solicitar los datos al usuario usando la función input() de Python. Revisa el enunciado del reto para determinar como se deben recibir los valores y recuerda que para input() los valores serán entregados en el orden que sea indicado en el enunciado.\n",
    "3. Hemos ampliado el plazo para enviar el reto hasta las 7:00 am del día siguiente, así que toma el tiempo necesario para analizar y desarrollar tu solución. Recuerda que lo más importante antes de empezar a programar es pensar en el algoritmo que vas a utilizar. Cuales son los pasos para solucionar el problema? La implementación y las funciones a usar se pueden encontrar una vez esto este claro.\n",
    "\n",
    "\n",
    "<b>INFORMACIÓN IMPORTANTE:</b> Recuerda que los retos del día son una oportunidad de reforzar los conocimientos adquiridos en esta sesión teórica y adicionalmente sirven para modificar, practicar y aprender a considerar soluciones alternas. Por este motivo, es importante no sólo usar el contenido de la sesión síncrona y preguntar a los monitores, sino también buscar en Internet soluciones viables a los problemas planteados. \n",
    "\n",
    "### Reto del día 1\n",
    "Crea una funcion reto1(T) que reciba una matriz T[n][m] e imprima primero la suma de los elementos pares y luego la suma de los elementos impares. \n",
    "\n",
    "Ejemplo: <br/>\n",
    "reto1([[1,2,3],[4,5,6],[7,8,9]]) <br/>\n",
    "imprime <br/>\n",
    "20<br/>\n",
    "25"
   ]
  },
  {
   "cell_type": "code",
   "execution_count": 105,
   "metadata": {
    "id": "Hl0jZg0yCV8Q"
   },
   "outputs": [
    {
     "name": "stdout",
     "output_type": "stream",
     "text": [
      "20\n",
      "25\n"
     ]
    }
   ],
   "source": [
    "##Aquí va tu algoritmo \n",
    "def reto1(T):\n",
    "    sum_par = 0\n",
    "    sum_impar = 0\n",
    "    for i in range(len(T)):\n",
    "        for j in T[i]:\n",
    "            par = j%2\n",
    "            if par == 0:\n",
    "                sum_par = sum_par + j\n",
    "            else:\n",
    "                sum_impar = sum_impar + j\n",
    "    print(sum_par)\n",
    "    return print(sum_impar)\n",
    "#No modifiques esta parte! \n",
    "if __name__ == \"__main__\":\n",
    "    reto1([[1,2,3],[4,5,6],[7,8,9]])"
   ]
  },
  {
   "cell_type": "markdown",
   "metadata": {
    "id": "OY6jQX_zCV8W"
   },
   "source": [
    "### Reto del día 2\n",
    "\n",
    "Las respuestas a una encuesta sobre la opinión de las personas con relación a la gestión del gobierno actual se almacenaron en una lista x. Proponga un programa en Python que calcule la frecuencia de cada una y las imprima en una matriz.\n",
    "\n",
    "Cree una función reto2(x) que reciba la lista x. ***Ojo*** Debes validar los posibles valores de las respuestas: E, B, R, M, P, N, si el elemento no tiene uno de estos valores debe devolver 'Error en los datos'\n",
    "\n",
    "Ejemplo:<br/> \n",
    "reto2([‘E’,’R’,’B’,’B’,’B’,’M’,’E’,’E’,’R’]) <br/>\n",
    "Imprime  [['E', 3], ['R', 2], ['B', 3], ['M', 1]] \n",
    "\n",
    "reto2(['E','E','E','B','B','M','E','E','R','N','N','N','M','M','M','B','E','R','N','N','N','M','M','M','B']) <br/>\n",
    "Imprime [['E', 6], ['B', 4], ['M', 7], ['R', 2], ['N', 6]] \n",
    "\n",
    "reto2([‘E’,’R’,’B’,’B’,'H']) <br/>\n",
    "Imprime \"Error en los datos\" \n"
   ]
  },
  {
   "cell_type": "code",
   "execution_count": 129,
   "metadata": {
    "id": "99Aat9_5CV8X",
    "scrolled": false
   },
   "outputs": [
    {
     "name": "stdout",
     "output_type": "stream",
     "text": [
      "[['N', 6], ['R', 2], ['M', 7], ['E', 6], ['B', 4]]\n"
     ]
    }
   ],
   "source": [
    "##Aquí va tu algoritmo \n",
    "def reto2(x):\n",
    "    cont_esta = 0\n",
    "    lista = []\n",
    "    unico_x = set(x)\n",
    "    respuesta = [\"E\", \"B\", \"R\", \"M\", \"P\", \"N\"]\n",
    "    for i in unico_x:\n",
    "        if i not in respuesta:\n",
    "            solucion = \"Error en los datos\"\n",
    "            break\n",
    "        else:\n",
    "            conteo = [i,x.count(i)]    \n",
    "            lista.append(conteo)\n",
    "            solucion = lista\n",
    "    return print(solucion)\n",
    "\n",
    "#No modifiques esta parte!\n",
    "if __name__ == \"__main__\":\n",
    "    reto2(['E','E','E','B','B','M','E','E','R','N','N','N','M','M','M','B','E','R','N','N','N','M','M','M','B'])"
   ]
  },
  {
   "cell_type": "code",
   "execution_count": null,
   "metadata": {},
   "outputs": [],
   "source": []
  }
 ],
 "metadata": {
  "colab": {
   "collapsed_sections": [],
   "name": "Sesion-14-retos.ipynb",
   "provenance": []
  },
  "kernelspec": {
   "display_name": "Python 3",
   "language": "python",
   "name": "python3"
  },
  "language_info": {
   "codemirror_mode": {
    "name": "ipython",
    "version": 3
   },
   "file_extension": ".py",
   "mimetype": "text/x-python",
   "name": "python",
   "nbconvert_exporter": "python",
   "pygments_lexer": "ipython3",
   "version": "3.8.3"
  }
 },
 "nbformat": 4,
 "nbformat_minor": 1
}
