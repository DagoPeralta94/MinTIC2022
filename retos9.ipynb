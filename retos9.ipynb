{
 "cells": [
  {
   "cell_type": "markdown",
   "metadata": {
    "id": "PgJoFzVTHjyd"
   },
   "source": [
    "## Retos del día\n",
    "\n",
    "<b>INFORMACIÓN IMPORTANTE:</b> Recuerda que los retos del día son una oportunidad de reforzar los conocimientos adquiridos en esta sesión teórica y adicionalmente sirven para modificar, practicar y aprender a considerar soluciones alternas. Por este motivo, es importante no sólo usar el contenido de la sesión síncrona y preguntar a los monitores, sino también buscar en Internet soluciones viables a los problemas planteados. \n",
    "\n",
    "Recuerda que tienes hasta la media noche para enviar el reto, así que toma el tiempo necesario para analizar y desarrollar tu solución. Lo más importante antes de empezar a programar es pensar en el algoritmo que vas a utilizar. Cuales son los pasos para solucionar el problema? La implementación y las funciones a usar se pueden encontrar una vez esto este claro.\n",
    "\n",
    "\n",
    "### Reto del día 1\n",
    "Crear un programa utilizando ciclos anidados que permita saber cuantas letras en común tienen 2 frases, sin importar el número de veces que cada letra está en cada frase. \n",
    "\n",
    "**Recomendaciones:**\n",
    "1. Ignora los espacios en blanco para que no sean contados. Identifica un espacio en blanco en Python usando \" \".\n",
    "2. Una vez encontrada una letra, considera eliminar la letra de una de las frases para no contarla dos veces (Esto requiere potencialmente usar un nuevo ciclo).\n",
    "\n",
    "**Ejemplos:** Al Ingresar las frases \n",
    "\"Mi prueba\",\"Tres valores\" devuelve <br/>\n",
    "3\n",
    "\n",
    "Al Ingresar las frases \"AAAAAAA\",\"BBBBBA BB\" devuelve<br/>\n",
    "1"
   ]
  },
  {
   "cell_type": "code",
   "execution_count": 38,
   "metadata": {},
   "outputs": [
    {
     "data": {
      "text/plain": [
       "1"
      ]
     },
     "execution_count": 38,
     "metadata": {},
     "output_type": "execute_result"
    }
   ],
   "source": [
    "def reto1(frase1, frase2):\n",
    "    frase1 = frase1.replace(\" \",\"\").upper()\n",
    "    frase2 = frase2.replace(\" \",\"\").upper()\n",
    "    frase1 = ''.join(set(frase1))\n",
    "    frase2 = ''.join(set(frase2))\n",
    "    cont = 0\n",
    "    for i in frase1:\n",
    "        for j in frase2:\n",
    "            if i == j:\n",
    "                cont = cont + 1 \n",
    "                break\n",
    "                \n",
    "       \n",
    "    return cont # Modifica el codigo para retornar el valor\n",
    "\n",
    "reto1(\"AAAAAAA\",\"BBBBBA BB\") "
   ]
  },
  {
   "cell_type": "markdown",
   "metadata": {
    "id": "g4JymMnmHjyt"
   },
   "source": [
    "### Reto del día 2\n",
    "Escribe un algoritmo que reciba un número e imprima un triángulo de números comenzando en 1. \n",
    "\n",
    "**Ejemplo:**\n",
    "Si el número ingresado es 4, imprimirá:<br/>\n",
    "1<br/>\n",
    "22<br/>\n",
    "333<br/>\n",
    "4444<br/>\n",
    "\n",
    "Si el número ingresado es 7, imprimirá:<br/>\n",
    "1<br/>\n",
    "22<br/>\n",
    "333<br/>\n",
    "4444<br/>\n",
    "55555<br/>\n",
    "666666<br/>\n",
    "7777777 <br/>"
   ]
  },
  {
   "cell_type": "code",
   "execution_count": 52,
   "metadata": {
    "colab": {
     "base_uri": "https://localhost:8080/",
     "height": 34
    },
    "executionInfo": {
     "elapsed": 2891,
     "status": "ok",
     "timestamp": 1601488804269,
     "user": {
      "displayName": "Asistente de evaluación 2 Misión TIC",
      "photoUrl": "https://lh3.googleusercontent.com/a-/AOh14GhRf5vF8MsSCwacD6w7T1FkAOX2AEyKc3LNOIFT=s64",
      "userId": "16368548699958377739"
     },
     "user_tz": 300
    },
    "id": "DUYJhrBBHjyw",
    "outputId": "c0155854-ccb0-4d40-d842-924eba241780"
   },
   "outputs": [
    {
     "name": "stdout",
     "output_type": "stream",
     "text": [
      "1\n",
      "22\n",
      "333\n",
      "4444\n",
      "55555\n",
      "666666\n",
      "7777777\n"
     ]
    }
   ],
   "source": [
    "def reto2(numero):\n",
    "    for i in range(1,numero+1):\n",
    "        n=str(i)*i\n",
    "        print(n)\n",
    "               \n",
    "reto2(7)   "
   ]
  }
 ],
 "metadata": {
  "colab": {
   "collapsed_sections": [],
   "name": "Sesion-10-retos.ipynb",
   "provenance": []
  },
  "kernelspec": {
   "display_name": "Python 3",
   "language": "python",
   "name": "python3"
  },
  "language_info": {
   "codemirror_mode": {
    "name": "ipython",
    "version": 3
   },
   "file_extension": ".py",
   "mimetype": "text/x-python",
   "name": "python",
   "nbconvert_exporter": "python",
   "pygments_lexer": "ipython3",
   "version": "3.8.3"
  }
 },
 "nbformat": 4,
 "nbformat_minor": 1
}
