{
 "cells": [
  {
   "cell_type": "markdown",
   "metadata": {},
   "source": [
    "## Retos del día\n",
    "\n",
    "Los retos del día están diseñados para permitirte practicar los conceptos aprendidos y empezar a explorar el lenguaje de programación. \n",
    "\n",
    "Recuerda tomar el tiempo en analizar y planear la solución antes de empezar a programar!\n",
    "\n",
    "### Reto del día 1\n",
    "\n",
    "Escribe un algoritmo que lea un número de 4 dígitos y lo invierta."
   ]
  },
  {
   "cell_type": "code",
   "execution_count": 4,
   "metadata": {},
   "outputs": [
    {
     "data": {
      "text/plain": [
       "4321"
      ]
     },
     "execution_count": 4,
     "metadata": {},
     "output_type": "execute_result"
    }
   ],
   "source": [
    "def reto1(x):\n",
    "    # Escribe tu código aquí. Manten la indentación!!\n",
    "    x1 = x//100\n",
    "    x2 = x1//10\n",
    "    x3 = x1%10\n",
    "    y1 = x%100\n",
    "    y2 = y1//10\n",
    "    y3 = y1%10\n",
    "    arreglo = str(y3) + str(y2) + str(x3) + str(x2)\n",
    "    arreglo_num = int(arreglo)\n",
    "    return arreglo_num # Reemplaza 0 por la variable que tiene el resultado\n",
    "\n",
    "reto1(1234) "
   ]
  },
  {
   "cell_type": "markdown",
   "metadata": {},
   "source": [
    "### Reto del día 2\n",
    "\n",
    "En una alcancía se tienen monedas de 50, 100, 200 y 500 pesos. Escriba el algoritmo que permita averiguar cuánto dinero hay en la alcancía. En este caso, pregunta al usuario que ingrese el número de monedas de cada denominación.\n"
   ]
  },
  {
   "cell_type": "code",
   "execution_count": 17,
   "metadata": {},
   "outputs": [
    {
     "data": {
      "text/plain": [
       "1450"
      ]
     },
     "execution_count": 17,
     "metadata": {},
     "output_type": "execute_result"
    }
   ],
   "source": [
    "def reto2(x50,x100,x200,x500):\n",
    "    # Escribe tu código aquí. Manten la indentación!!\n",
    "    dinero_50 = x50*50\n",
    "    dinero_100 = x100*100\n",
    "    dinero_200 = x200*200\n",
    "    dinero_500 = x500*500\n",
    "    dinero_total = dinero_50 + dinero_100 + dinero_200 + dinero_500\n",
    "    return dinero_total # Reemplaza 0 por la variable que tiene el resultado\n",
    "\n",
    "reto2(1,2,1,2)"
   ]
  },
  {
   "cell_type": "markdown",
   "metadata": {},
   "source": [
    "### Reto del día 3\n",
    "Escribe el código para obtener la raiz cuadrada de x, asigna el resultado a una variable b y redondea este valor a cero decimales. Imprime b\n"
   ]
  },
  {
   "cell_type": "code",
   "execution_count": 26,
   "metadata": {},
   "outputs": [
    {
     "name": "stdout",
     "output_type": "stream",
     "text": [
      "5\n"
     ]
    },
    {
     "data": {
      "text/plain": [
       "5"
      ]
     },
     "execution_count": 26,
     "metadata": {},
     "output_type": "execute_result"
    }
   ],
   "source": [
    "def reto3(x):\n",
    "    # Escribe tu código aquí. Manten la indentación!!\n",
    "    b = round(x**(1/2)) \n",
    "    #b = int(b)\n",
    "    print(b)\n",
    "    return b # Reemplaza 0 por la variable que tiene el resultado\n",
    "\n",
    "reto3(22)"
   ]
  },
  {
   "cell_type": "markdown",
   "metadata": {},
   "source": [
    "### Reto del día 4\n",
    "La ejecución del siguiente código puede ser incorrecta si el usuario no ingresa el numero de la forma correcta. Modifica el código para que devuelva la suma de las dos variables\n"
   ]
  },
  {
   "cell_type": "code",
   "execution_count": 33,
   "metadata": {},
   "outputs": [
    {
     "data": {
      "text/plain": [
       "8"
      ]
     },
     "execution_count": 33,
     "metadata": {},
     "output_type": "execute_result"
    }
   ],
   "source": [
    "def reto4(x,y):\n",
    "    \n",
    "    x = int(x)\n",
    "    y = int(y)\n",
    "    \n",
    "    resultado = x+y\n",
    "    \n",
    "    return resultado\n",
    "\n",
    "reto4(\"4\",\"4\")"
   ]
  },
  {
   "cell_type": "code",
   "execution_count": 3,
   "metadata": {},
   "outputs": [
    {
     "name": "stdout",
     "output_type": "stream",
     "text": [
      "Por favor digite el número de monedas de 50: 2\n",
      "Por favor digite el número de monedas de 100: 1\n",
      "Por favor digite el número de monedas de 200: 1\n",
      "Por favor digite el número de monedas de 500: 2\n"
     ]
    },
    {
     "data": {
      "text/plain": [
       "1400"
      ]
     },
     "execution_count": 3,
     "metadata": {},
     "output_type": "execute_result"
    }
   ],
   "source": [
    "def reto2(x50,x100,x200,x500):\n",
    "    # Este programa lee un número específico de monedas de 50, 100, 200 y 500 en una alcancía y retorna el valor total almacenao allí\n",
    "    \n",
    "    return  x50*50+x100*100+x200*200+x500*500\n",
    "\n",
    "x50=int(input(\"Por favor digite el número de monedas de 50: \"))\n",
    "x100=int(input(\"Por favor digite el número de monedas de 100: \"))\n",
    "x200=int(input(\"Por favor digite el número de monedas de 200: \"))\n",
    "x500 = int (input(\"Por favor digite el número de monedas de 500: \"))\n",
    "\n",
    "reto2(x50, x100, x200, x500)"
   ]
  },
  {
   "cell_type": "code",
   "execution_count": 8,
   "metadata": {},
   "outputs": [
    {
     "name": "stdout",
     "output_type": "stream",
     "text": [
      "Ingresa la edad: 17\n",
      "Ingresa 1 sí tiene diploma o 0 si no tiene: 0\n",
      "No puede ingresar al programa de medicina\n"
     ]
    }
   ],
   "source": [
    "edad = int(input('Ingresa la edad: '))\n",
    "tiene_diploma = int(input('Ingresa 1 sí tiene diploma o 0 si no tiene: '))\n",
    "if tiene_diploma == 1:\n",
    "    si_tiene = True\n",
    "else:\n",
    "    si_tiene = False\n",
    "if ((edad>17) and (si_tiene==True)):\n",
    "    print('Puede ingresar al programa de medicina')\n",
    "else:\n",
    "    print('No puede ingresar al programa de medicina')"
   ]
  },
  {
   "cell_type": "code",
   "execution_count": null,
   "metadata": {},
   "outputs": [],
   "source": []
  }
 ],
 "metadata": {
  "kernelspec": {
   "display_name": "Python 3",
   "language": "python",
   "name": "python3"
  },
  "language_info": {
   "codemirror_mode": {
    "name": "ipython",
    "version": 3
   },
   "file_extension": ".py",
   "mimetype": "text/x-python",
   "name": "python",
   "nbconvert_exporter": "python",
   "pygments_lexer": "ipython3",
   "version": "3.8.3"
  }
 },
 "nbformat": 4,
 "nbformat_minor": 4
}
