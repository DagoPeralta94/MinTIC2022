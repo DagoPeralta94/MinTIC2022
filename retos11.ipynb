{
 "cells": [
  {
   "cell_type": "markdown",
   "metadata": {
    "id": "kvS1eUzIP5jn"
   },
   "source": [
    "## Retos del día\n",
    "\n",
    "***OJO*** A partir de esta sesión es tu responsabilidad definir la función indicada y retornar el valor solicitado. \n",
    "def reto1():\n",
    "    print(resultado) o return resultado\n",
    "\n",
    "<b>INFORMACIÓN IMPORTANTE:</b> Recuerda que los retos del día son una oportunidad de reforzar los conocimientos adquiridos en esta sesión teórica y adicionalmente sirven para modificar, practicar y aprender a considerar soluciones alternas. Por este motivo, es importante no sólo usar el contenido de la sesión síncrona y preguntar a los monitores, sino también buscar en Internet soluciones viables a los problemas planteados. \n",
    "\n",
    "Recuerda que tienes hasta la media noche para enviar el reto, así que toma el tiempo necesario para analizar y desarrollar tu solución. Lo más importante antes de empezar a programar es pensar en el algoritmo que vas a utilizar. Cuales son los pasos para solucionar el problema? La implementación y las funciones a usar se pueden encontrar una vez esto este claro.\n",
    "\n",
    "\n",
    "### Reto del día 1\n",
    "Crea una funcion reto1 que dada una lista determine:\n",
    "\n",
    "    a) El promedio de N números enteros llamando a una función promedio e imprima el valor\n",
    "    b) La suma de los números pares y la suma de los impares.\n",
    "\n",
    "***Ojo*** Ambas funciones, reto1 y promedio deben existir y serán probadas por el autotest.\n",
    "\n",
    "Ejemplo: <br/>\n",
    "reto1([1,2,3,4,5,6,7]) devuelve <br/>\n",
    "Promedio 4\n",
    "Suma pares 12\n",
    "Suma impares 16\n",
    "\n",
    "promedio([20,32,8])\n",
    "20.0"
   ]
  },
  {
   "cell_type": "code",
   "execution_count": 13,
   "metadata": {
    "id": "ZwrJuiblP5jp"
   },
   "outputs": [
    {
     "name": "stdout",
     "output_type": "stream",
     "text": [
      "Promedio  20.0  Suma pares  60  Suma impares  0\n"
     ]
    }
   ],
   "source": [
    "def promedio(lista):\n",
    "    suma = sum(lista)\n",
    "    prom = suma/(len(lista))\n",
    "    sum_par = 0\n",
    "    sum_impar = 0\n",
    "    for i in lista:\n",
    "        if i%2==0:\n",
    "            sum_par = sum_par + i\n",
    "        else:\n",
    "            sum_impar = sum_impar + i\n",
    "    resultado = print(\"Promedio \",prom,\" Suma pares \",sum_par,\" Suma impares \",sum_impar)\n",
    "    return resultado\n",
    "\n",
    "def reto1(lista):\n",
    "    return promedio(lista)\n",
    "reto1([20,32,8])  \n"
   ]
  },
  {
   "cell_type": "markdown",
   "metadata": {
    "id": "D2ymjgwbP5jv"
   },
   "source": [
    "### Reto del día 2\n",
    "Escribe una función reto2 que reciba un elemento X y una lista Y, y determine si X está en Y. Si está debe retornar la posición en la que se encuentra, sino debe retornar False.\n",
    "\n",
    "Ejemplo: <br/>\n",
    "reto2(1, [1,2,3,4,5,6,7]) devuelve <br/>\n",
    "0\n",
    "\n",
    "reto2(9, [1,2,3,4,5,6,7]) devuelve <br/>\n",
    "False"
   ]
  },
  {
   "cell_type": "code",
   "execution_count": 34,
   "metadata": {
    "id": "PRjgz4PeP5jw"
   },
   "outputs": [
    {
     "data": {
      "text/plain": [
       "False"
      ]
     },
     "execution_count": 34,
     "metadata": {},
     "output_type": "execute_result"
    }
   ],
   "source": [
    "def reto2(X,Y):\n",
    "    for i in Y:\n",
    "        if X == i:\n",
    "            resultado = print(Y.index(X))\n",
    "            break\n",
    "        else:\n",
    "            resultado = False\n",
    "            \n",
    "    return resultado\n",
    "\n",
    "reto2(9, [1,2,3,4,5,6,7])"
   ]
  },
  {
   "cell_type": "markdown",
   "metadata": {
    "id": "q2p8Q9EsP5jz"
   },
   "source": [
    "### Reto del día 3\n",
    "Escriba una función reto3() que reciba dos listas A y B y adicione a la lista A los valores de B que no están en A y devuelve la lista ordenada en forma ascendiente.\n",
    "\n",
    "Ejemplo: <br/>\n",
    "reto3([\"Pedro\",\"Juan\",\"Ana\"], [\"Carlos\",\"Maria\",\"Pedro\"]) devuelve <br/>\n",
    "[\"Ana\",\"Carlos\",\"Juan\",\"Maria\",\"Pedro\"]\n",
    "\n",
    "reto3([4,6,7,6],[6,1,2]) devuelve <br/>\n",
    "[1,2,4,6,6,7]"
   ]
  },
  {
   "cell_type": "code",
   "execution_count": 72,
   "metadata": {
    "id": "wNUp8ouFP5j0"
   },
   "outputs": [
    {
     "name": "stdout",
     "output_type": "stream",
     "text": [
      "['Ana', 'Carlos', 'Juan', 'Maria', 'Pedro']\n"
     ]
    }
   ],
   "source": [
    "def reto3(A,B):\n",
    "    for i in range(len(B)):\n",
    "        if B[i] not in A:\n",
    "            A.append(B[i])\n",
    "            A = sorted(A)\n",
    "    return print(A)\n",
    "reto3([\"Pedro\",\"Juan\",\"Ana\"],[\"Carlos\",\"Maria\",\"Pedro\"])"
   ]
  }
 ],
 "metadata": {
  "colab": {
   "name": "Sesion-12-retos.ipynb",
   "provenance": []
  },
  "kernelspec": {
   "display_name": "Python 3",
   "language": "python",
   "name": "python3"
  },
  "language_info": {
   "codemirror_mode": {
    "name": "ipython",
    "version": 3
   },
   "file_extension": ".py",
   "mimetype": "text/x-python",
   "name": "python",
   "nbconvert_exporter": "python",
   "pygments_lexer": "ipython3",
   "version": "3.8.3"
  }
 },
 "nbformat": 4,
 "nbformat_minor": 1
}
