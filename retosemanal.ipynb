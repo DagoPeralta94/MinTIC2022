{
 "cells": [
  {
   "cell_type": "markdown",
   "metadata": {},
   "source": [
    "## Reto de la semana \n",
    "\n",
    "Es tiempo de medir tus habilidades. La solución para tu cliente, Transportes del Norte, requiere de la construcción de una interfaz mediante la que el usuario ha de interactuar (interfaz humano-máquina). Iniciemos entonces con la construcción de un pequeño Menú de selección, que ofrezca las siguientes opciones:\n",
    "\n",
    "1.  Leer un número de 4 dígitos, mostrar el dígito mayor e informar si es par o impar.\n",
    "2.  Leer dos números de 3 dígitos cada uno, formar un tercer número con el mayor del primero y el menor del segundo.\n",
    "3.  Leer un número de 3 dígitos y formar el mayor número posible con sus cifras.\n",
    "4. Salir\n"
   ]
  },
  {
   "cell_type": "code",
   "execution_count": 34,
   "metadata": {},
   "outputs": [
    {
     "data": {
      "text/plain": [
       "\"9, 'impar'\""
      ]
     },
     "execution_count": 34,
     "metadata": {},
     "output_type": "execute_result"
    }
   ],
   "source": [
    "def menu(option,num1,num2):\n",
    "    \n",
    "    \n",
    "    def op1(num1):    \n",
    "        arreglo = str(num1)\n",
    "        ordenado = sorted(arreglo)\n",
    "        numero_final = int(ordenado[3])\n",
    "        es_par = numero_final%2\n",
    "        if es_par == 0:\n",
    "            salida2 = ordenado[3] + \", 'par'\"\n",
    "        else:\n",
    "            salida2 = ordenado[3] + \", 'impar'\"\n",
    "        return salida2\n",
    "                     \n",
    "    def op2(num1, num2): \n",
    "        arreglo1 = str(num1)\n",
    "        arreglo2 = str(num2)\n",
    "        ordenado1 = sorted(arreglo1)\n",
    "        ordenado2 = sorted(arreglo2)\n",
    "        salida3 = ordenado1[2] + ordenado2[0]\n",
    "        return salida3\n",
    "\n",
    "    def op3(num1):\n",
    "        arreglo = str(num1)\n",
    "        ordenado = sorted(arreglo)\n",
    "        salida4 = ordenado[2] + ordenado[1] +ordenado[0]\n",
    "        return salida4 \n",
    "\n",
    "    def op4():\n",
    "    \n",
    "        return \"Salir\" \n",
    "    \n",
    "    if option == 1:\n",
    "        salida1 = op1(num1)\n",
    "    elif option == 2:\n",
    "        salida1 = op2(num1, num2)\n",
    "    elif option == 3:\n",
    "        salida1 = op3(num1)\n",
    "    elif option == 4:\n",
    "        salida1 = op4()\n",
    "    else:\n",
    "        salida1 = \"Opción no valida\"\n",
    "    \n",
    "    return salida1 \n",
    "\n",
    "menu(1,7956,0)\n"
   ]
  },
  {
   "cell_type": "code",
   "execution_count": null,
   "metadata": {},
   "outputs": [],
   "source": []
  }
 ],
 "metadata": {
  "kernelspec": {
   "display_name": "Python 3",
   "language": "python",
   "name": "python3"
  },
  "language_info": {
   "codemirror_mode": {
    "name": "ipython",
    "version": 3
   },
   "file_extension": ".py",
   "mimetype": "text/x-python",
   "name": "python",
   "nbconvert_exporter": "python",
   "pygments_lexer": "ipython3",
   "version": "3.8.3"
  }
 },
 "nbformat": 4,
 "nbformat_minor": 4
}
